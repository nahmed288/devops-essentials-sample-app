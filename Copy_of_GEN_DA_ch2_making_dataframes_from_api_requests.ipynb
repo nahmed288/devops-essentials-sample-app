{
  "nbformat": 4,
  "nbformat_minor": 0,
  "metadata": {
    "colab": {
      "name": "Copy of GEN_DA_ch2_making_dataframes_from_api_requests.ipynb",
      "provenance": [],
      "collapsed_sections": [],
      "include_colab_link": true
    },
    "kernelspec": {
      "name": "python3",
      "display_name": "Python 3"
    },
    "language_info": {
      "name": "python"
    }
  },
  "cells": [
    {
      "cell_type": "markdown",
      "metadata": {
        "id": "view-in-github",
        "colab_type": "text"
      },
      "source": [
        "<a href=\"https://colab.research.google.com/github/nahmed288/devops-essentials-sample-app/blob/master/Copy_of_GEN_DA_ch2_making_dataframes_from_api_requests.ipynb\" target=\"_parent\"><img src=\"https://colab.research.google.com/assets/colab-badge.svg\" alt=\"Open In Colab\"/></a>"
      ]
    },
    {
      "cell_type": "markdown",
      "source": [
        "Making Pandas DataFrames from API Requests"
      ],
      "metadata": {
        "id": "1CP5VfprbL-v"
      }
    },
    {
      "cell_type": "markdown",
      "source": [
        "Get Data from API\n"
      ],
      "metadata": {
        "id": "gpqQbUzbbSbr"
      }
    },
    {
      "cell_type": "code",
      "execution_count": null,
      "metadata": {
        "colab": {
          "base_uri": "https://localhost:8080/"
        },
        "id": "1cIp8TBGbGhj",
        "outputId": "f9c986f2-ac26-4e99-aeda-b2891c0b39d8"
      },
      "outputs": [
        {
          "output_type": "execute_result",
          "data": {
            "text/plain": [
              "200"
            ]
          },
          "metadata": {},
          "execution_count": 1
        }
      ],
      "source": [
        "import datetime as dt\n",
        "import pandas as pd\n",
        "import requests\n",
        "\n",
        "yesterday = dt.date.today() - dt.timedelta(days=1)\n",
        "api = 'https://earthquake.usgs.gov/fdsnws/event/1/query'\n",
        "payload = {\n",
        "    'format': 'geojson',\n",
        "    'starttime': yesterday - dt.timedelta(days=30),\n",
        "    'endtime': yesterday\n",
        "}\n",
        "response = requests.get(api, params=payload)\n",
        "\n",
        "# let's make sure the request was OK\n",
        "response.status_code"
      ]
    },
    {
      "cell_type": "markdown",
      "source": [
        "Isolate the Data from the JSON Response\n",
        "\n"
      ],
      "metadata": {
        "id": "f7NPG-CMdOE_"
      }
    },
    {
      "cell_type": "code",
      "source": [
        "earthquake_json = response.json()\n",
        "earthquake_json.keys()"
      ],
      "metadata": {
        "colab": {
          "base_uri": "https://localhost:8080/"
        },
        "id": "mSDN0I8xdP6t",
        "outputId": "39ccfc70-feda-448b-fc44-a7d3d7284585"
      },
      "execution_count": null,
      "outputs": [
        {
          "output_type": "execute_result",
          "data": {
            "text/plain": [
              "dict_keys(['type', 'metadata', 'features', 'bbox'])"
            ]
          },
          "metadata": {},
          "execution_count": 2
        }
      ]
    },
    {
      "cell_type": "code",
      "source": [
        "type(earthquake_json['features'])\n"
      ],
      "metadata": {
        "colab": {
          "base_uri": "https://localhost:8080/"
        },
        "id": "2Eqt8ffDddMk",
        "outputId": "8be53449-ed3d-410a-b1f9-9dec5a7cfddb"
      },
      "execution_count": null,
      "outputs": [
        {
          "output_type": "execute_result",
          "data": {
            "text/plain": [
              "list"
            ]
          },
          "metadata": {},
          "execution_count": 4
        }
      ]
    },
    {
      "cell_type": "code",
      "source": [
        "earthquake_json['features'][0]\n"
      ],
      "metadata": {
        "colab": {
          "base_uri": "https://localhost:8080/"
        },
        "id": "UerdTGVid1mq",
        "outputId": "b808e2bf-5fe4-43ed-bf12-6f414cc13a17"
      },
      "execution_count": null,
      "outputs": [
        {
          "output_type": "execute_result",
          "data": {
            "text/plain": [
              "{'geometry': {'coordinates': [128.7681, -7.3961, 129.18], 'type': 'Point'},\n",
              " 'id': 'us7000hcjf',\n",
              " 'properties': {'alert': None,\n",
              "  'cdi': None,\n",
              "  'code': '7000hcjf',\n",
              "  'detail': 'https://earthquake.usgs.gov/fdsnws/event/1/query?eventid=us7000hcjf&format=geojson',\n",
              "  'dmin': 2.575,\n",
              "  'felt': None,\n",
              "  'gap': 65,\n",
              "  'ids': ',us7000hcjf,',\n",
              "  'mag': 4.3,\n",
              "  'magType': 'mb',\n",
              "  'mmi': None,\n",
              "  'net': 'us',\n",
              "  'nst': None,\n",
              "  'place': '231 km ENE of Lospalos, Timor Leste',\n",
              "  'rms': 0.47,\n",
              "  'sig': 284,\n",
              "  'sources': ',us,',\n",
              "  'status': 'reviewed',\n",
              "  'time': 1653523007692,\n",
              "  'title': 'M 4.3 - 231 km ENE of Lospalos, Timor Leste',\n",
              "  'tsunami': 0,\n",
              "  'type': 'earthquake',\n",
              "  'types': ',origin,phase-data,',\n",
              "  'tz': None,\n",
              "  'updated': 1653525487040,\n",
              "  'url': 'https://earthquake.usgs.gov/earthquakes/eventpage/us7000hcjf'},\n",
              " 'type': 'Feature'}"
            ]
          },
          "metadata": {},
          "execution_count": 5
        }
      ]
    },
    {
      "cell_type": "markdown",
      "source": [
        "Convert to DataFrame\n"
      ],
      "metadata": {
        "id": "1jLoEd5iebzw"
      }
    },
    {
      "cell_type": "code",
      "source": [
        "earthquake_properties_data = [\n",
        "    quake['properties'] for quake in earthquake_json['features']\n",
        "]\n",
        "df = pd.DataFrame(earthquake_properties_data)\n",
        "df.head()"
      ],
      "metadata": {
        "id": "-TVapAp-eacv",
        "outputId": "f7c06240-cbee-47ba-c1fb-61061623ee1f",
        "colab": {
          "base_uri": "https://localhost:8080/",
          "height": 647
        }
      },
      "execution_count": null,
      "outputs": [
        {
          "output_type": "execute_result",
          "data": {
            "text/plain": [
              "    mag                                place           time        updated  \\\n",
              "0  4.30  231 km ENE of Lospalos, Timor Leste  1653523007692  1653525487040   \n",
              "1  2.60   56 km S of Whites City, New Mexico  1653522766400  1653589914147   \n",
              "2  5.00           98 km NNW of Neiafu, Tonga  1653522062414  1653523671040   \n",
              "3  0.36                  6km WNW of Cobb, CA  1653521910980  1653522913211   \n",
              "4  1.17                  13km SE of Anza, CA  1653521862800  1653585747540   \n",
              "\n",
              "     tz                                                url  \\\n",
              "0  None  https://earthquake.usgs.gov/earthquakes/eventp...   \n",
              "1  None  https://earthquake.usgs.gov/earthquakes/eventp...   \n",
              "2  None  https://earthquake.usgs.gov/earthquakes/eventp...   \n",
              "3  None  https://earthquake.usgs.gov/earthquakes/eventp...   \n",
              "4  None  https://earthquake.usgs.gov/earthquakes/eventp...   \n",
              "\n",
              "                                              detail  felt  cdi  mmi  ...  \\\n",
              "0  https://earthquake.usgs.gov/fdsnws/event/1/que...   NaN  NaN  NaN  ...   \n",
              "1  https://earthquake.usgs.gov/fdsnws/event/1/que...   NaN  NaN  NaN  ...   \n",
              "2  https://earthquake.usgs.gov/fdsnws/event/1/que...   NaN  NaN  NaN  ...   \n",
              "3  https://earthquake.usgs.gov/fdsnws/event/1/que...   NaN  NaN  NaN  ...   \n",
              "4  https://earthquake.usgs.gov/fdsnws/event/1/que...   NaN  NaN  NaN  ...   \n",
              "\n",
              "                       ids  sources  \\\n",
              "0             ,us7000hcjf,     ,us,   \n",
              "1  ,us7000hcjb,tx2022kexs,  ,us,tx,   \n",
              "2             ,us7000hcja,     ,us,   \n",
              "3             ,nc73737926,     ,nc,   \n",
              "4             ,ci40026815,     ,ci,   \n",
              "\n",
              "                                               types   nst      dmin   rms  \\\n",
              "0                                ,origin,phase-data,   NaN  2.575000  0.47   \n",
              "1                                ,origin,phase-data,   9.0  0.116325  0.20   \n",
              "2                                ,origin,phase-data,   NaN  4.708000  0.63   \n",
              "3     ,nearby-cities,origin,phase-data,scitech-link,   7.0  0.001924  0.01   \n",
              "4  ,focal-mechanism,nearby-cities,origin,phase-da...  44.0  0.031700  0.13   \n",
              "\n",
              "     gap magType        type                                        title  \n",
              "0   65.0      mb  earthquake  M 4.3 - 231 km ENE of Lospalos, Timor Leste  \n",
              "1   68.0      ml  earthquake   M 2.6 - 56 km S of Whites City, New Mexico  \n",
              "2  125.0      mb  earthquake           M 5.0 - 98 km NNW of Neiafu, Tonga  \n",
              "3   78.0      md  earthquake                  M 0.4 - 6km WNW of Cobb, CA  \n",
              "4   44.0      ml  earthquake                  M 1.2 - 13km SE of Anza, CA  \n",
              "\n",
              "[5 rows x 26 columns]"
            ],
            "text/html": [
              "\n",
              "  <div id=\"df-62e3937d-a68e-4cdf-a27a-7e990131a402\">\n",
              "    <div class=\"colab-df-container\">\n",
              "      <div>\n",
              "<style scoped>\n",
              "    .dataframe tbody tr th:only-of-type {\n",
              "        vertical-align: middle;\n",
              "    }\n",
              "\n",
              "    .dataframe tbody tr th {\n",
              "        vertical-align: top;\n",
              "    }\n",
              "\n",
              "    .dataframe thead th {\n",
              "        text-align: right;\n",
              "    }\n",
              "</style>\n",
              "<table border=\"1\" class=\"dataframe\">\n",
              "  <thead>\n",
              "    <tr style=\"text-align: right;\">\n",
              "      <th></th>\n",
              "      <th>mag</th>\n",
              "      <th>place</th>\n",
              "      <th>time</th>\n",
              "      <th>updated</th>\n",
              "      <th>tz</th>\n",
              "      <th>url</th>\n",
              "      <th>detail</th>\n",
              "      <th>felt</th>\n",
              "      <th>cdi</th>\n",
              "      <th>mmi</th>\n",
              "      <th>...</th>\n",
              "      <th>ids</th>\n",
              "      <th>sources</th>\n",
              "      <th>types</th>\n",
              "      <th>nst</th>\n",
              "      <th>dmin</th>\n",
              "      <th>rms</th>\n",
              "      <th>gap</th>\n",
              "      <th>magType</th>\n",
              "      <th>type</th>\n",
              "      <th>title</th>\n",
              "    </tr>\n",
              "  </thead>\n",
              "  <tbody>\n",
              "    <tr>\n",
              "      <th>0</th>\n",
              "      <td>4.30</td>\n",
              "      <td>231 km ENE of Lospalos, Timor Leste</td>\n",
              "      <td>1653523007692</td>\n",
              "      <td>1653525487040</td>\n",
              "      <td>None</td>\n",
              "      <td>https://earthquake.usgs.gov/earthquakes/eventp...</td>\n",
              "      <td>https://earthquake.usgs.gov/fdsnws/event/1/que...</td>\n",
              "      <td>NaN</td>\n",
              "      <td>NaN</td>\n",
              "      <td>NaN</td>\n",
              "      <td>...</td>\n",
              "      <td>,us7000hcjf,</td>\n",
              "      <td>,us,</td>\n",
              "      <td>,origin,phase-data,</td>\n",
              "      <td>NaN</td>\n",
              "      <td>2.575000</td>\n",
              "      <td>0.47</td>\n",
              "      <td>65.0</td>\n",
              "      <td>mb</td>\n",
              "      <td>earthquake</td>\n",
              "      <td>M 4.3 - 231 km ENE of Lospalos, Timor Leste</td>\n",
              "    </tr>\n",
              "    <tr>\n",
              "      <th>1</th>\n",
              "      <td>2.60</td>\n",
              "      <td>56 km S of Whites City, New Mexico</td>\n",
              "      <td>1653522766400</td>\n",
              "      <td>1653589914147</td>\n",
              "      <td>None</td>\n",
              "      <td>https://earthquake.usgs.gov/earthquakes/eventp...</td>\n",
              "      <td>https://earthquake.usgs.gov/fdsnws/event/1/que...</td>\n",
              "      <td>NaN</td>\n",
              "      <td>NaN</td>\n",
              "      <td>NaN</td>\n",
              "      <td>...</td>\n",
              "      <td>,us7000hcjb,tx2022kexs,</td>\n",
              "      <td>,us,tx,</td>\n",
              "      <td>,origin,phase-data,</td>\n",
              "      <td>9.0</td>\n",
              "      <td>0.116325</td>\n",
              "      <td>0.20</td>\n",
              "      <td>68.0</td>\n",
              "      <td>ml</td>\n",
              "      <td>earthquake</td>\n",
              "      <td>M 2.6 - 56 km S of Whites City, New Mexico</td>\n",
              "    </tr>\n",
              "    <tr>\n",
              "      <th>2</th>\n",
              "      <td>5.00</td>\n",
              "      <td>98 km NNW of Neiafu, Tonga</td>\n",
              "      <td>1653522062414</td>\n",
              "      <td>1653523671040</td>\n",
              "      <td>None</td>\n",
              "      <td>https://earthquake.usgs.gov/earthquakes/eventp...</td>\n",
              "      <td>https://earthquake.usgs.gov/fdsnws/event/1/que...</td>\n",
              "      <td>NaN</td>\n",
              "      <td>NaN</td>\n",
              "      <td>NaN</td>\n",
              "      <td>...</td>\n",
              "      <td>,us7000hcja,</td>\n",
              "      <td>,us,</td>\n",
              "      <td>,origin,phase-data,</td>\n",
              "      <td>NaN</td>\n",
              "      <td>4.708000</td>\n",
              "      <td>0.63</td>\n",
              "      <td>125.0</td>\n",
              "      <td>mb</td>\n",
              "      <td>earthquake</td>\n",
              "      <td>M 5.0 - 98 km NNW of Neiafu, Tonga</td>\n",
              "    </tr>\n",
              "    <tr>\n",
              "      <th>3</th>\n",
              "      <td>0.36</td>\n",
              "      <td>6km WNW of Cobb, CA</td>\n",
              "      <td>1653521910980</td>\n",
              "      <td>1653522913211</td>\n",
              "      <td>None</td>\n",
              "      <td>https://earthquake.usgs.gov/earthquakes/eventp...</td>\n",
              "      <td>https://earthquake.usgs.gov/fdsnws/event/1/que...</td>\n",
              "      <td>NaN</td>\n",
              "      <td>NaN</td>\n",
              "      <td>NaN</td>\n",
              "      <td>...</td>\n",
              "      <td>,nc73737926,</td>\n",
              "      <td>,nc,</td>\n",
              "      <td>,nearby-cities,origin,phase-data,scitech-link,</td>\n",
              "      <td>7.0</td>\n",
              "      <td>0.001924</td>\n",
              "      <td>0.01</td>\n",
              "      <td>78.0</td>\n",
              "      <td>md</td>\n",
              "      <td>earthquake</td>\n",
              "      <td>M 0.4 - 6km WNW of Cobb, CA</td>\n",
              "    </tr>\n",
              "    <tr>\n",
              "      <th>4</th>\n",
              "      <td>1.17</td>\n",
              "      <td>13km SE of Anza, CA</td>\n",
              "      <td>1653521862800</td>\n",
              "      <td>1653585747540</td>\n",
              "      <td>None</td>\n",
              "      <td>https://earthquake.usgs.gov/earthquakes/eventp...</td>\n",
              "      <td>https://earthquake.usgs.gov/fdsnws/event/1/que...</td>\n",
              "      <td>NaN</td>\n",
              "      <td>NaN</td>\n",
              "      <td>NaN</td>\n",
              "      <td>...</td>\n",
              "      <td>,ci40026815,</td>\n",
              "      <td>,ci,</td>\n",
              "      <td>,focal-mechanism,nearby-cities,origin,phase-da...</td>\n",
              "      <td>44.0</td>\n",
              "      <td>0.031700</td>\n",
              "      <td>0.13</td>\n",
              "      <td>44.0</td>\n",
              "      <td>ml</td>\n",
              "      <td>earthquake</td>\n",
              "      <td>M 1.2 - 13km SE of Anza, CA</td>\n",
              "    </tr>\n",
              "  </tbody>\n",
              "</table>\n",
              "<p>5 rows × 26 columns</p>\n",
              "</div>\n",
              "      <button class=\"colab-df-convert\" onclick=\"convertToInteractive('df-62e3937d-a68e-4cdf-a27a-7e990131a402')\"\n",
              "              title=\"Convert this dataframe to an interactive table.\"\n",
              "              style=\"display:none;\">\n",
              "        \n",
              "  <svg xmlns=\"http://www.w3.org/2000/svg\" height=\"24px\"viewBox=\"0 0 24 24\"\n",
              "       width=\"24px\">\n",
              "    <path d=\"M0 0h24v24H0V0z\" fill=\"none\"/>\n",
              "    <path d=\"M18.56 5.44l.94 2.06.94-2.06 2.06-.94-2.06-.94-.94-2.06-.94 2.06-2.06.94zm-11 1L8.5 8.5l.94-2.06 2.06-.94-2.06-.94L8.5 2.5l-.94 2.06-2.06.94zm10 10l.94 2.06.94-2.06 2.06-.94-2.06-.94-.94-2.06-.94 2.06-2.06.94z\"/><path d=\"M17.41 7.96l-1.37-1.37c-.4-.4-.92-.59-1.43-.59-.52 0-1.04.2-1.43.59L10.3 9.45l-7.72 7.72c-.78.78-.78 2.05 0 2.83L4 21.41c.39.39.9.59 1.41.59.51 0 1.02-.2 1.41-.59l7.78-7.78 2.81-2.81c.8-.78.8-2.07 0-2.86zM5.41 20L4 18.59l7.72-7.72 1.47 1.35L5.41 20z\"/>\n",
              "  </svg>\n",
              "      </button>\n",
              "      \n",
              "  <style>\n",
              "    .colab-df-container {\n",
              "      display:flex;\n",
              "      flex-wrap:wrap;\n",
              "      gap: 12px;\n",
              "    }\n",
              "\n",
              "    .colab-df-convert {\n",
              "      background-color: #E8F0FE;\n",
              "      border: none;\n",
              "      border-radius: 50%;\n",
              "      cursor: pointer;\n",
              "      display: none;\n",
              "      fill: #1967D2;\n",
              "      height: 32px;\n",
              "      padding: 0 0 0 0;\n",
              "      width: 32px;\n",
              "    }\n",
              "\n",
              "    .colab-df-convert:hover {\n",
              "      background-color: #E2EBFA;\n",
              "      box-shadow: 0px 1px 2px rgba(60, 64, 67, 0.3), 0px 1px 3px 1px rgba(60, 64, 67, 0.15);\n",
              "      fill: #174EA6;\n",
              "    }\n",
              "\n",
              "    [theme=dark] .colab-df-convert {\n",
              "      background-color: #3B4455;\n",
              "      fill: #D2E3FC;\n",
              "    }\n",
              "\n",
              "    [theme=dark] .colab-df-convert:hover {\n",
              "      background-color: #434B5C;\n",
              "      box-shadow: 0px 1px 3px 1px rgba(0, 0, 0, 0.15);\n",
              "      filter: drop-shadow(0px 1px 2px rgba(0, 0, 0, 0.3));\n",
              "      fill: #FFFFFF;\n",
              "    }\n",
              "  </style>\n",
              "\n",
              "      <script>\n",
              "        const buttonEl =\n",
              "          document.querySelector('#df-62e3937d-a68e-4cdf-a27a-7e990131a402 button.colab-df-convert');\n",
              "        buttonEl.style.display =\n",
              "          google.colab.kernel.accessAllowed ? 'block' : 'none';\n",
              "\n",
              "        async function convertToInteractive(key) {\n",
              "          const element = document.querySelector('#df-62e3937d-a68e-4cdf-a27a-7e990131a402');\n",
              "          const dataTable =\n",
              "            await google.colab.kernel.invokeFunction('convertToInteractive',\n",
              "                                                     [key], {});\n",
              "          if (!dataTable) return;\n",
              "\n",
              "          const docLinkHtml = 'Like what you see? Visit the ' +\n",
              "            '<a target=\"_blank\" href=https://colab.research.google.com/notebooks/data_table.ipynb>data table notebook</a>'\n",
              "            + ' to learn more about interactive tables.';\n",
              "          element.innerHTML = '';\n",
              "          dataTable['output_type'] = 'display_data';\n",
              "          await google.colab.output.renderOutput(dataTable, element);\n",
              "          const docLink = document.createElement('div');\n",
              "          docLink.innerHTML = docLinkHtml;\n",
              "          element.appendChild(docLink);\n",
              "        }\n",
              "      </script>\n",
              "    </div>\n",
              "  </div>\n",
              "  "
            ]
          },
          "metadata": {},
          "execution_count": 9
        }
      ]
    }
  ]
}